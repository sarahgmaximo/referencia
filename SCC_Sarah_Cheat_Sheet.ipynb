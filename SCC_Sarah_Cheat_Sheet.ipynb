{
  "nbformat": 4,
  "nbformat_minor": 0,
  "metadata": {
    "colab": {
      "name": "SCC_Sarah_Cheat_Sheet.ipynb",
      "provenance": [],
      "collapsed_sections": [],
      "authorship_tag": "ABX9TyMSSKKwLYfJ4oDH3M4cqqzZ",
      "include_colab_link": true
    },
    "kernelspec": {
      "name": "python3",
      "display_name": "Python 3"
    },
    "language_info": {
      "name": "python"
    }
  },
  "cells": [
    {
      "cell_type": "markdown",
      "metadata": {
        "id": "view-in-github",
        "colab_type": "text"
      },
      "source": [
        "<a href=\"https://colab.research.google.com/github/sarahgottardi/referencia/blob/main/SCC_Sarah_Cheat_Sheet.ipynb\" target=\"_parent\"><img src=\"https://colab.research.google.com/assets/colab-badge.svg\" alt=\"Open In Colab\"/></a>"
      ]
    },
    {
      "cell_type": "markdown",
      "metadata": {
        "id": "pR5WE6iwYQxR"
      },
      "source": [
        "# **Codigos mais usados**"
      ]
    },
    {
      "cell_type": "markdown",
      "metadata": {
        "id": "ex3lssghpJAw"
      },
      "source": [
        "Contagens diversas"
      ]
    },
    {
      "cell_type": "code",
      "metadata": {
        "id": "zblX3DRBpSs2"
      },
      "source": [
        "df.col.value_counts()\n",
        "df.describe()"
      ],
      "execution_count": null,
      "outputs": []
    },
    {
      "cell_type": "markdown",
      "metadata": {
        "id": "-90fpmgtWrUs"
      },
      "source": [
        "Filtrar coluna"
      ]
    },
    {
      "cell_type": "code",
      "metadata": {
        "id": "m5BCGHTdWxeo"
      },
      "source": [
        "filtro = df['coluna'] > 1\n",
        "df_filtro = df[filtro]"
      ],
      "execution_count": null,
      "outputs": []
    },
    {
      "cell_type": "markdown",
      "metadata": {
        "id": "5dzltBWWW-7A"
      },
      "source": [
        "Converter e substituir nulos"
      ]
    },
    {
      "cell_type": "code",
      "metadata": {
        "id": "w2AlW0aMXsGu"
      },
      "source": [
        "for coluna in df.columns:\n",
        "  df[coluna] = pd.to_numeric(df[coluna], errrors ='coerce').fillna(0).astype(np.float))"
      ],
      "execution_count": null,
      "outputs": []
    },
    {
      "cell_type": "markdown",
      "metadata": {
        "id": "9wv8e_CyYaUf"
      },
      "source": [
        "Deletando coluna"
      ]
    },
    {
      "cell_type": "code",
      "metadata": {
        "id": "173ruma1YZwp"
      },
      "source": [
        "df.drop() # pelo numero da coluna\n",
        "df.drop(columns=['coluna']) # pelo nome\n",
        "df = df.drop(columns=['coluna']) # no df original"
      ],
      "execution_count": null,
      "outputs": []
    },
    {
      "cell_type": "markdown",
      "metadata": {
        "id": "JCgyVl9bZVci"
      },
      "source": [
        "Concatena colunas como string numa coluna unica"
      ]
    },
    {
      "cell_type": "code",
      "metadata": {
        "id": "T0tjJhbjYct9"
      },
      "source": [
        "df['coluna_unica'] = df['col1'].astype(str) + '_' +  df['col2'].astype(str) "
      ],
      "execution_count": null,
      "outputs": []
    },
    {
      "cell_type": "markdown",
      "metadata": {
        "id": "8AEUqmOpZ0LM"
      },
      "source": [
        "Cria coluna do tipo if-else"
      ]
    },
    {
      "cell_type": "code",
      "metadata": {
        "id": "guKgUFKIZ0e_"
      },
      "source": [
        "when = [df.coluna.isin([0,2,4,6,8]),\n",
        "        df.coluna.isin([1,3,5,7,9]),]\n",
        "then = ['par','impar']\n",
        "df['par_ou_impar'] = np.select(when,then)"
      ],
      "execution_count": null,
      "outputs": []
    },
    {
      "cell_type": "markdown",
      "metadata": {
        "id": "91ScIkt9axMA"
      },
      "source": [
        "Cria coluna com varios criterios"
      ]
    },
    {
      "cell_type": "code",
      "metadata": {
        "id": "bTgHCYNNaxc5"
      },
      "source": [
        "df.loc[(df.col1>=0)&(df.col1<1)|(df.col3=='SIM'),'coluna_nova'] = 'valor nesse caso'\n",
        "df.loc[(df.col1>=0)&(df.col1<1)|(df.col3=='NAO'),'coluna_nova'] = 'valor nesse outro caso' # repita quantas vezes for necessário"
      ],
      "execution_count": null,
      "outputs": []
    },
    {
      "cell_type": "markdown",
      "metadata": {
        "id": "N632g-fOjh_r"
      },
      "source": [
        "Filtro com query"
      ]
    },
    {
      "cell_type": "code",
      "metadata": {
        "id": "HWbgy8NbjlfI"
      },
      "source": [
        "df.query('col1==0 & col2>=8').col3 = 0"
      ],
      "execution_count": null,
      "outputs": []
    },
    {
      "cell_type": "markdown",
      "metadata": {
        "id": "IERmOXhmcxUX"
      },
      "source": [
        "Exclui dulicados - deduplicação, cria chave, únicos"
      ]
    },
    {
      "cell_type": "code",
      "metadata": {
        "id": "od2v148Lcwvb"
      },
      "source": [
        "df = df.drop_duplicates(subset = ['col1','col2'])"
      ],
      "execution_count": null,
      "outputs": []
    },
    {
      "cell_type": "code",
      "metadata": {
        "id": "-yGgftnoomvD"
      },
      "source": [
        "df.fillna(0, inplace = True)"
      ],
      "execution_count": null,
      "outputs": []
    },
    {
      "cell_type": "markdown",
      "metadata": {
        "id": "f2U3DolLdFT8"
      },
      "source": [
        "Análise estatística rápida"
      ]
    },
    {
      "cell_type": "code",
      "metadata": {
        "id": "3tCg-hjTc5i-"
      },
      "source": [
        "df[['col1','col2']].describe()\n",
        "df.describe() # mais preguiçoso"
      ],
      "execution_count": null,
      "outputs": []
    },
    {
      "cell_type": "markdown",
      "metadata": {
        "id": "5CaN-GIXihwH"
      },
      "source": [
        "Join e merge"
      ]
    },
    {
      "cell_type": "code",
      "metadata": {
        "id": "85-ftapTiiCX"
      },
      "source": [
        "df = df1.merge(df2, how='left', left_on =['col1','col2'], right_on = ['col3', 'col4'])"
      ],
      "execution_count": null,
      "outputs": []
    },
    {
      "cell_type": "markdown",
      "metadata": {
        "id": "qEuTF-3fo1fK"
      },
      "source": [
        "Group by"
      ]
    },
    {
      "cell_type": "code",
      "metadata": {
        "id": "-5euqsbBo15j"
      },
      "source": [
        "df_safra = df.groupby('safra')\n",
        "df_safra.size()"
      ],
      "execution_count": null,
      "outputs": []
    },
    {
      "cell_type": "markdown",
      "metadata": {
        "id": "ms7ciOLSjbUD"
      },
      "source": [
        "Ler csv grande com pickle - truque"
      ]
    },
    {
      "cell_type": "code",
      "metadata": {
        "id": "kjEXtjl5jbnK"
      },
      "source": [
        "df.to_pickle(path)\n",
        "df2 = pd.read_parquet(path)\n",
        "df2 = pd.read_pickle(path)"
      ],
      "execution_count": null,
      "outputs": []
    },
    {
      "cell_type": "markdown",
      "metadata": {
        "id": "JjGbVOAbkT9G"
      },
      "source": [
        "Cria coluna de safra"
      ]
    },
    {
      "cell_type": "code",
      "metadata": {
        "id": "rwX4wTGlkWHM"
      },
      "source": [
        "def cria_safra(x):\n",
        "  return f\"{x[6:10]}{x[3:5]}\"\n",
        "\n",
        "df['safra'] = df.col1.apply(lambda x: cria_safra(str(x)))"
      ],
      "execution_count": null,
      "outputs": []
    },
    {
      "cell_type": "markdown",
      "metadata": {
        "id": "7MtTiUTrlrWG"
      },
      "source": [
        "Cria coluna de safra outra versão"
      ]
    },
    {
      "cell_type": "code",
      "metadata": {
        "id": "_ojoifQflqVa"
      },
      "source": [
        "def cria_safra(x):\n",
        "  data = pd.Timestamp(x)\n",
        "  safra = f'{data.year:04{data.month:02}'\n",
        "  return int(safra)\n",
        "\n",
        "df['safra'] = df.col1.apply(lambda x: cria_safra(str(x)))"
      ],
      "execution_count": null,
      "outputs": []
    },
    {
      "cell_type": "markdown",
      "metadata": {
        "id": "ZWT6KO8hqP2V"
      },
      "source": [
        "Undersample"
      ]
    },
    {
      "cell_type": "code",
      "metadata": {
        "id": "MzYdpMBBqRNL"
      },
      "source": [
        "df_maus = df[df.col = 0]\n",
        "df_bons = df[df.col = 1]\n",
        "df_bons_2 = df_bons.sample(frac=0.01, replace=False, random_state=38).copy()\n",
        "df_under = pd.concat([df_bons_2, df_maus])"
      ],
      "execution_count": null,
      "outputs": []
    },
    {
      "cell_type": "markdown",
      "metadata": {
        "id": "30Vs8KUPrbSq"
      },
      "source": [
        "Smote, Smoteen, Smotetomek"
      ]
    },
    {
      "cell_type": "code",
      "metadata": {
        "id": "PjsT4cHfre0q"
      },
      "source": [
        "from imblearn.over_sampling import SMOTE\n",
        "smote = SMOTE(random_state = 7)\n",
        "x_smote, y_smote = smote.fit_resample(variaveis, labels)\n",
        "print(sorted(Counter(y_smote).items()))"
      ],
      "execution_count": null,
      "outputs": []
    },
    {
      "cell_type": "code",
      "metadata": {
        "id": "y6a901-PtMlH"
      },
      "source": [
        "from imblearn.over_sampling import SMOTEENN\n",
        "smote = SMOTEENN(random_state = 7)\n",
        "x_smote, y_smote = smote.fit_resample(variaveis, labels)\n",
        "print(sorted(Counter(y_smote).items()))"
      ],
      "execution_count": null,
      "outputs": []
    },
    {
      "cell_type": "code",
      "metadata": {
        "id": "XNNBesJ7tb_W"
      },
      "source": [
        "from imblearn.over_sampling import SMOTETomek\n",
        "smote = SMOTETomek(random_state = 7)\n",
        "x_smote, y_smote = smote.fit_resample(variaveis, labels)\n",
        "print(sorted(Counter(y_smote).items()))"
      ],
      "execution_count": null,
      "outputs": []
    },
    {
      "cell_type": "markdown",
      "metadata": {
        "id": "nwnpEErdttM6"
      },
      "source": [
        "Classification Report"
      ]
    },
    {
      "cell_type": "code",
      "metadata": {
        "id": "TTvxCGw7t3xo"
      },
      "source": [
        "from sklearn.metrics import classification_report\n",
        "y_predict = classificador.predict(x_test)\n",
        "print(classification_report(y_test,y_predict))"
      ],
      "execution_count": null,
      "outputs": []
    }
  ]
}